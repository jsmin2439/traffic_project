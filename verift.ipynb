{
 "cells": [
  {
   "cell_type": "code",
   "execution_count": 3,
   "id": "5ce19ade",
   "metadata": {},
   "outputs": [
    {
     "name": "stdout",
     "output_type": "stream",
     "text": [
      "Requirement already satisfied: ace_tools in ./.venv/lib/python3.13/site-packages (0.0)\n",
      "Note: you may need to restart the kernel to use updated packages.\n"
     ]
    },
    {
     "ename": "ModuleNotFoundError",
     "evalue": "No module named 'ace_tools'",
     "output_type": "error",
     "traceback": [
      "\u001b[31m---------------------------------------------------------------------------\u001b[39m",
      "\u001b[31mModuleNotFoundError\u001b[39m                       Traceback (most recent call last)",
      "\u001b[36mCell\u001b[39m\u001b[36m \u001b[39m\u001b[32mIn[3]\u001b[39m\u001b[32m, line 4\u001b[39m\n\u001b[32m      2\u001b[39m get_ipython().run_line_magic(\u001b[33m'\u001b[39m\u001b[33mpip\u001b[39m\u001b[33m'\u001b[39m, \u001b[33m'\u001b[39m\u001b[33minstall ace_tools\u001b[39m\u001b[33m'\u001b[39m)\n\u001b[32m      3\u001b[39m \u001b[38;5;28;01mimport\u001b[39;00m\u001b[38;5;250m \u001b[39m\u001b[34;01mpandas\u001b[39;00m\u001b[38;5;250m \u001b[39m\u001b[38;5;28;01mas\u001b[39;00m\u001b[38;5;250m \u001b[39m\u001b[34;01mpd\u001b[39;00m\n\u001b[32m----> \u001b[39m\u001b[32m4\u001b[39m \u001b[38;5;28;01mfrom\u001b[39;00m\u001b[38;5;250m \u001b[39m\u001b[34;01mace_tools\u001b[39;00m\u001b[38;5;250m \u001b[39m\u001b[38;5;28;01mimport\u001b[39;00m display_dataframe_to_user\n\u001b[32m      6\u001b[39m \u001b[38;5;66;03m# 1) CSV의 앞 1000줄 읽기\u001b[39;00m\n\u001b[32m      7\u001b[39m csv_path = \u001b[33m\"\u001b[39m\u001b[33mstgcn_lstm_all_predictions.csv\u001b[39m\u001b[33m\"\u001b[39m  \u001b[38;5;66;03m# 혹은 \"stgcn_lstm_all_predictions_phys.csv\"\u001b[39;00m\n",
      "\u001b[31mModuleNotFoundError\u001b[39m: No module named 'ace_tools'"
     ]
    }
   ],
   "source": [
    "# Cell 1: 필요한 라이브러리 로드 및 데이터 읽기\n",
    "%pip install ace_tools\n",
    "import pandas as pd\n",
    "from ace_tools import display_dataframe_to_user\n",
    "\n",
    "# 1) CSV의 앞 1000줄 읽기\n",
    "csv_path = \"stgcn_lstm_all_predictions.csv\"  # 혹은 \"stgcn_lstm_all_predictions_phys.csv\"\n",
    "df = pd.read_csv(csv_path, nrows=1000)\n",
    "\n",
    "# 2) Jupyter 상에 테이블로 표시\n",
    "display_dataframe_to_user(\"First 1000 Rows of Predictions\", df)"
   ]
  }
 ],
 "metadata": {
  "kernelspec": {
   "display_name": ".venv",
   "language": "python",
   "name": "python3"
  },
  "language_info": {
   "codemirror_mode": {
    "name": "ipython",
    "version": 3
   },
   "file_extension": ".py",
   "mimetype": "text/x-python",
   "name": "python",
   "nbconvert_exporter": "python",
   "pygments_lexer": "ipython3",
   "version": "3.13.3"
  }
 },
 "nbformat": 4,
 "nbformat_minor": 5
}
